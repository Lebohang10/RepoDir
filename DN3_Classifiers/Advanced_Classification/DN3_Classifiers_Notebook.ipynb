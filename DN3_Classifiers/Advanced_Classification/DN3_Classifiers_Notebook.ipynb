{
 "cells": [
  {
   "cell_type": "markdown",
   "metadata": {
    "id": "-XweBu-_x9Vj"
   },
   "source": [
    "## Introduction to Comet ML  \n",
    "\n",
    "Comet is a great tool for model versioning and experimentation as it records the parameters and conditions from each of your experiements- allowing you to reproduce your results, or go back to a previous version of your experiment.  \n",
    "\n",
    "To create an account, visit https://www.comet.ml/  \n",
    "Follow the instructions for a single user account. Once that is created, you will see a project folder. That is where the records of your experiments can be viewed. \n",
    "\n",
    "Comet has an abundance of tutorials and scripts, we're just going to run through this notebook to get you started on the right track. For this illustration, we will be using one of the examples found on the Comet ML GitHub repo.\n",
    "\n",
    "To begin with, you should install as illustrated below if you don't already have it. *Always import Experiment at the top of your notebook/script.*\n"
   ]
  },
  {
   "cell_type": "code",
   "execution_count": 1,
   "metadata": {
    "colab": {
     "base_uri": "https://localhost:8080/",
     "height": 554
    },
    "id": "3Wd_iEgx6j2w",
    "outputId": "d4322780-007b-432b-82bf-093a48e93428"
   },
   "outputs": [],
   "source": [
    "#!pip install comet_ml"
   ]
  },
  {
   "cell_type": "code",
   "execution_count": 4,
   "metadata": {
    "id": "3jhxZfPg6qxH"
   },
   "outputs": [],
   "source": [
    "from comet_ml import Experiment"
   ]
  },
  {
   "cell_type": "markdown",
   "metadata": {
    "id": "cObkea-S7Y85"
   },
   "source": [
    "You will see an API key button at the top of the page when you click on an experiment- use this key as illustrated below to link your current workspace to comet. (If a project is empty, the code below will autogenerate for you on the project page, just copy and paste it in here)"
   ]
  },
  {
   "cell_type": "code",
   "execution_count": 8,
   "metadata": {
    "colab": {
     "base_uri": "https://localhost:8080/",
     "height": 50
    },
    "id": "S5cRjXOH7aTX",
    "outputId": "9de3fcce-d970-4393-f264-793fb2d4ac74"
   },
   "outputs": [
    {
     "name": "stderr",
     "output_type": "stream",
     "text": [
      "\u001b[1;38;5;214mCOMET WARNING:\u001b[0m As you are running in a Jupyter environment, you will need to call `experiment.end()` when finished to ensure all metrics and code are logged before exiting.\n",
      "\u001b[1;38;5;39mCOMET INFO:\u001b[0m Experiment is live on comet.com https://www.comet.com/1272371/general/4085beb95a354c9d8437062260505f3e\n",
      "\n"
     ]
    }
   ],
   "source": [
    "# Setting the API key (saved as environment variable)\n",
    "experiment = Experiment(api_key='Tcgb2u9Wu6OHaXqB8BNfs090x',\n",
    "                        project_name=\"general\", workspace=\"1272371\") "
   ]
  },
  {
   "cell_type": "markdown",
   "metadata": {
    "id": "2dN3PMg07s0Q"
   },
   "source": [
    "Import the rest of your necessary libraries as you usually would. For this demonstration we will be using the breast cancer dataset for classification so we will also import that from sklearn."
   ]
  },
  {
   "cell_type": "code",
   "execution_count": 9,
   "metadata": {
    "id": "Q53Mocnc79cF"
   },
   "outputs": [],
   "source": [
    "import numpy as np\n",
    "from sklearn.datasets import load_breast_cancer\n",
    "from sklearn.model_selection import train_test_split, GridSearchCV\n",
    "from sklearn.linear_model import LogisticRegression\n",
    "from sklearn.tree import DecisionTreeClassifier\n",
    "from sklearn.preprocessing import StandardScaler\n",
    "from sklearn.metrics import f1_score, precision_score, recall_score, confusion_matrix"
   ]
  },
  {
   "cell_type": "code",
   "execution_count": 10,
   "metadata": {
    "colab": {
     "base_uri": "https://localhost:8080/",
     "height": 286
    },
    "id": "olkD6zuo_VI9",
    "outputId": "5f6cd772-b2ec-4a7f-971d-4e3b71e785b8"
   },
   "outputs": [
    {
     "name": "stdout",
     "output_type": "stream",
     "text": [
      "cancer.keys(): dict_keys(['data', 'target', 'frame', 'target_names', 'DESCR', 'feature_names', 'filename', 'data_module'])\n",
      "Shape of cancer data: (569, 30)\n",
      "\n",
      "Sample counts per class:\n",
      "{'malignant': 212, 'benign': 357}\n",
      "\n",
      "Feature names:\n",
      "['mean radius' 'mean texture' 'mean perimeter' 'mean area'\n",
      " 'mean smoothness' 'mean compactness' 'mean concavity'\n",
      " 'mean concave points' 'mean symmetry' 'mean fractal dimension'\n",
      " 'radius error' 'texture error' 'perimeter error' 'area error'\n",
      " 'smoothness error' 'compactness error' 'concavity error'\n",
      " 'concave points error' 'symmetry error' 'fractal dimension error'\n",
      " 'worst radius' 'worst texture' 'worst perimeter' 'worst area'\n",
      " 'worst smoothness' 'worst compactness' 'worst concavity'\n",
      " 'worst concave points' 'worst symmetry' 'worst fractal dimension']\n"
     ]
    }
   ],
   "source": [
    "# Have a look at your dataset\n",
    "cancer = load_breast_cancer()\n",
    "print(\"cancer.keys(): {}\".format(cancer.keys()))\n",
    "print(\"Shape of cancer data: {}\\n\".format(cancer.data.shape))\n",
    "print(\"Sample counts per class:\\n{}\".format(\n",
    "      {n: v for n, v in zip(cancer.target_names, np.bincount(cancer.target))}))\n",
    "print(\"\\nFeature names:\\n{}\".format(cancer.feature_names))"
   ]
  },
  {
   "cell_type": "markdown",
   "metadata": {
    "id": "H_KDcC6O_uon"
   },
   "source": [
    "Split your data into train and test sets, keep in mind that you need to set a random state for your results to be reproduced!"
   ]
  },
  {
   "cell_type": "code",
   "execution_count": 12,
   "metadata": {
    "id": "yHBLubxt_b2t"
   },
   "outputs": [],
   "source": [
    "X_train, X_test, y_train, y_test = train_test_split(cancer.data, cancer.target, stratify=cancer.target, random_state=7)"
   ]
  },
  {
   "cell_type": "code",
   "execution_count": 13,
   "metadata": {
    "id": "vjsyVrHF_kHR"
   },
   "outputs": [],
   "source": [
    "# Scale your data!\n",
    "\n",
    "scaler = StandardScaler()\n",
    "X_train_scaled = scaler.fit_transform(X_train)\n",
    "X_test_scaled = scaler.transform(X_test)"
   ]
  },
  {
   "cell_type": "markdown",
   "metadata": {
    "id": "93jtvJoIGxbK"
   },
   "source": [
    "## GridSearch \n",
    "\n",
    "For this example we've used a gridsearch but you may use a model with default parameters or your own parameters too- Just remember to add/remove the neccesary data when you are logging your parameters at the end of the experiment.\n",
    "\n",
    "The `param_grid` variable contains the 'C' values we want our gridsearch to iterate through.\n",
    "\n"
   ]
  },
  {
   "cell_type": "code",
   "execution_count": 14,
   "metadata": {
    "id": "B0yjyIgS_pde"
   },
   "outputs": [],
   "source": [
    "logreg = LogisticRegression()\n",
    "param_grid = {'C': [0.001, 0.01, 0.1, 1, 5, 10, 20, 50, 100]}"
   ]
  },
  {
   "cell_type": "code",
   "execution_count": 15,
   "metadata": {
    "id": "PjWzBbbqF_S1"
   },
   "outputs": [],
   "source": [
    "# Training and testing using GridSearch\n",
    "clf = GridSearchCV(logreg,\n",
    "                   param_grid=param_grid,\n",
    "                   cv=10,\n",
    "                   n_jobs=-1)\n",
    "\n",
    "clf.fit(X_train_scaled, y_train)\n",
    "y_pred = clf.predict(X_test_scaled)"
   ]
  },
  {
   "cell_type": "markdown",
   "metadata": {
    "id": "Qn57DHbLQSyF"
   },
   "source": [
    "## Results\n",
    "\n",
    "Now that our model has trained, we can have a look at the results- Below is a confusion matrix indicating that at first glance, we have a fairly good model going. We then save the F1 score, Precision, and Recall as individual variables to go into our metric dictionary for logging.\n",
    "\n",
    "P.S. have a look at the Comet tutorial page for interesting confusion matrix plots."
   ]
  },
  {
   "cell_type": "code",
   "execution_count": 16,
   "metadata": {
    "colab": {
     "base_uri": "https://localhost:8080/",
     "height": 101
    },
    "id": "wPerWtdRGFvx",
    "outputId": "2c803aa1-f2e3-48ac-ca84-0d8324f8de64"
   },
   "outputs": [
    {
     "name": "stdout",
     "output_type": "stream",
     "text": [
      "\n",
      "Results\n",
      "Confusion matrix \n",
      " [[52  1]\n",
      " [ 2 88]]\n"
     ]
    }
   ],
   "source": [
    "print(\"\\nResults\\nConfusion matrix \\n {}\".format(\n",
    "    confusion_matrix(y_test, y_pred)))"
   ]
  },
  {
   "cell_type": "code",
   "execution_count": 17,
   "metadata": {
    "id": "arEXfiZPGLOd"
   },
   "outputs": [],
   "source": [
    "# Saving each metric to add to a dictionary for logging\n",
    "\n",
    "f1 = f1_score(y_test, y_pred)\n",
    "precision = precision_score(y_test, y_pred)\n",
    "recall = recall_score(y_test, y_pred)"
   ]
  },
  {
   "cell_type": "code",
   "execution_count": 18,
   "metadata": {
    "id": "-1kDE76cGRSd"
   },
   "outputs": [],
   "source": [
    "# Create dictionaries for the data we want to log\n",
    "\n",
    "params = {\"random_state\": 7,\n",
    "          \"model_type\": \"logreg\",\n",
    "          \"scaler\": \"standard scaler\",\n",
    "          \"param_grid\": str(param_grid),\n",
    "          \"stratify\": True\n",
    "          }\n",
    "metrics = {\"f1\": f1,\n",
    "           \"recall\": recall,\n",
    "           \"precision\": precision\n",
    "           }"
   ]
  },
  {
   "cell_type": "code",
   "execution_count": 19,
   "metadata": {
    "id": "oun_B6m5GXEz"
   },
   "outputs": [],
   "source": [
    "# Log our parameters and results\n",
    "experiment.log_parameters(params)\n",
    "experiment.log_metrics(metrics)"
   ]
  },
  {
   "cell_type": "markdown",
   "metadata": {
    "id": "wuUPB_amTU-0"
   },
   "source": [
    "If you're using comet within a jupyter notebook, it's important to end your experiment when you've finished as illustrated below."
   ]
  },
  {
   "cell_type": "code",
   "execution_count": 20,
   "metadata": {
    "colab": {
     "base_uri": "https://localhost:8080/",
     "height": 269
    },
    "id": "CbQ3tKA-G6rW",
    "outputId": "d5818c72-cc5b-4c51-d4ef-cea92962f19f"
   },
   "outputs": [
    {
     "name": "stderr",
     "output_type": "stream",
     "text": [
      "\u001b[1;38;5;39mCOMET INFO:\u001b[0m ---------------------------------------------------------------------------------------\n",
      "\u001b[1;38;5;39mCOMET INFO:\u001b[0m Comet.ml Experiment Summary\n",
      "\u001b[1;38;5;39mCOMET INFO:\u001b[0m ---------------------------------------------------------------------------------------\n",
      "\u001b[1;38;5;39mCOMET INFO:\u001b[0m   Data:\n",
      "\u001b[1;38;5;39mCOMET INFO:\u001b[0m     display_summary_level : 1\n",
      "\u001b[1;38;5;39mCOMET INFO:\u001b[0m     url                   : https://www.comet.com/1272371/general/4085beb95a354c9d8437062260505f3e\n",
      "\u001b[1;38;5;39mCOMET INFO:\u001b[0m   Metrics:\n",
      "\u001b[1;38;5;39mCOMET INFO:\u001b[0m     f1        : 0.9832402234636872\n",
      "\u001b[1;38;5;39mCOMET INFO:\u001b[0m     precision : 0.9887640449438202\n",
      "\u001b[1;38;5;39mCOMET INFO:\u001b[0m     recall    : 0.9777777777777777\n",
      "\u001b[1;38;5;39mCOMET INFO:\u001b[0m   Parameters:\n",
      "\u001b[1;38;5;39mCOMET INFO:\u001b[0m     C                            : 1\n",
      "\u001b[1;38;5;39mCOMET INFO:\u001b[0m     class_weight                 : 1\n",
      "\u001b[1;38;5;39mCOMET INFO:\u001b[0m     copy                         : True\n",
      "\u001b[1;38;5;39mCOMET INFO:\u001b[0m     cv                           : 10\n",
      "\u001b[1;38;5;39mCOMET INFO:\u001b[0m     dual                         : False\n",
      "\u001b[1;38;5;39mCOMET INFO:\u001b[0m     error_score                  : nan\n",
      "\u001b[1;38;5;39mCOMET INFO:\u001b[0m     estimator                    : LogisticRegression()\n",
      "\u001b[1;38;5;39mCOMET INFO:\u001b[0m     estimator__C                 : 1.0\n",
      "\u001b[1;38;5;39mCOMET INFO:\u001b[0m     estimator__class_weight      : 1\n",
      "\u001b[1;38;5;39mCOMET INFO:\u001b[0m     estimator__dual              : False\n",
      "\u001b[1;38;5;39mCOMET INFO:\u001b[0m     estimator__fit_intercept     : True\n",
      "\u001b[1;38;5;39mCOMET INFO:\u001b[0m     estimator__intercept_scaling : 1\n",
      "\u001b[1;38;5;39mCOMET INFO:\u001b[0m     estimator__l1_ratio          : 1\n",
      "\u001b[1;38;5;39mCOMET INFO:\u001b[0m     estimator__max_iter          : 100\n",
      "\u001b[1;38;5;39mCOMET INFO:\u001b[0m     estimator__multi_class       : auto\n",
      "\u001b[1;38;5;39mCOMET INFO:\u001b[0m     estimator__n_jobs            : 1\n",
      "\u001b[1;38;5;39mCOMET INFO:\u001b[0m     estimator__penalty           : l2\n",
      "\u001b[1;38;5;39mCOMET INFO:\u001b[0m     estimator__random_state      : 1\n",
      "\u001b[1;38;5;39mCOMET INFO:\u001b[0m     estimator__solver            : lbfgs\n",
      "\u001b[1;38;5;39mCOMET INFO:\u001b[0m     estimator__tol               : 0.0001\n",
      "\u001b[1;38;5;39mCOMET INFO:\u001b[0m     estimator__verbose           : 0\n",
      "\u001b[1;38;5;39mCOMET INFO:\u001b[0m     estimator__warm_start        : False\n",
      "\u001b[1;38;5;39mCOMET INFO:\u001b[0m     fit_intercept                : True\n",
      "\u001b[1;38;5;39mCOMET INFO:\u001b[0m     intercept_scaling            : 1\n",
      "\u001b[1;38;5;39mCOMET INFO:\u001b[0m     l1_ratio                     : 1\n",
      "\u001b[1;38;5;39mCOMET INFO:\u001b[0m     max_iter                     : 100\n",
      "\u001b[1;38;5;39mCOMET INFO:\u001b[0m     model_type                   : logreg\n",
      "\u001b[1;38;5;39mCOMET INFO:\u001b[0m     multi_class                  : auto\n",
      "\u001b[1;38;5;39mCOMET INFO:\u001b[0m     n_jobs                       : -1\n",
      "\u001b[1;38;5;39mCOMET INFO:\u001b[0m     param_grid                   : {'C': [0.001, 0.01, 0.1, 1, 5, 10, 20, 50, 100]}\n",
      "\u001b[1;38;5;39mCOMET INFO:\u001b[0m     penalty                      : l2\n",
      "\u001b[1;38;5;39mCOMET INFO:\u001b[0m     pre_dispatch                 : 2*n_jobs\n",
      "\u001b[1;38;5;39mCOMET INFO:\u001b[0m     random_state                 : 7\n",
      "\u001b[1;38;5;39mCOMET INFO:\u001b[0m     refit                        : True\n",
      "\u001b[1;38;5;39mCOMET INFO:\u001b[0m     return_train_score           : False\n",
      "\u001b[1;38;5;39mCOMET INFO:\u001b[0m     scaler                       : standard scaler\n",
      "\u001b[1;38;5;39mCOMET INFO:\u001b[0m     scoring                      : 1\n",
      "\u001b[1;38;5;39mCOMET INFO:\u001b[0m     solver                       : lbfgs\n",
      "\u001b[1;38;5;39mCOMET INFO:\u001b[0m     stratify                     : True\n",
      "\u001b[1;38;5;39mCOMET INFO:\u001b[0m     tol                          : 0.0001\n",
      "\u001b[1;38;5;39mCOMET INFO:\u001b[0m     verbose                      : 0\n",
      "\u001b[1;38;5;39mCOMET INFO:\u001b[0m     warm_start                   : False\n",
      "\u001b[1;38;5;39mCOMET INFO:\u001b[0m     with_mean                    : True\n",
      "\u001b[1;38;5;39mCOMET INFO:\u001b[0m     with_std                     : True\n",
      "\u001b[1;38;5;39mCOMET INFO:\u001b[0m   Uploads:\n",
      "\u001b[1;38;5;39mCOMET INFO:\u001b[0m     conda-environment-definition : 1\n",
      "\u001b[1;38;5;39mCOMET INFO:\u001b[0m     conda-info                   : 1\n",
      "\u001b[1;38;5;39mCOMET INFO:\u001b[0m     conda-specification          : 1\n",
      "\u001b[1;38;5;39mCOMET INFO:\u001b[0m     environment details          : 1\n",
      "\u001b[1;38;5;39mCOMET INFO:\u001b[0m     filename                     : 1\n",
      "\u001b[1;38;5;39mCOMET INFO:\u001b[0m     git metadata                 : 1\n",
      "\u001b[1;38;5;39mCOMET INFO:\u001b[0m     git-patch (uncompressed)     : 1 (20.86 KB)\n",
      "\u001b[1;38;5;39mCOMET INFO:\u001b[0m     installed packages           : 1\n",
      "\u001b[1;38;5;39mCOMET INFO:\u001b[0m     notebook                     : 1\n",
      "\u001b[1;38;5;39mCOMET INFO:\u001b[0m     source_code                  : 1\n",
      "\u001b[1;38;5;39mCOMET INFO:\u001b[0m \n",
      "\u001b[1;38;5;39mCOMET INFO:\u001b[0m Please wait for metadata to finish uploading (timeout is 3600 seconds)\n"
     ]
    }
   ],
   "source": [
    "experiment.end()"
   ]
  },
  {
   "cell_type": "markdown",
   "metadata": {
    "id": "BXuUORTEooIX"
   },
   "source": [
    "## Display  \n",
    "\n",
    "Running `experiment.display()` will show you your experiments comet.ml page inside your notebook as illustrated below. You can do this immediately after an experiment is run, and logged. "
   ]
  },
  {
   "cell_type": "code",
   "execution_count": 21,
   "metadata": {
    "colab": {
     "base_uri": "https://localhost:8080/",
     "height": 821
    },
    "id": "B-5ZmY-ZHFRf",
    "outputId": "4ea3e2c5-783d-49af-e71e-aaa59e63ea18"
   },
   "outputs": [
    {
     "data": {
      "text/html": [
       "\n",
       "        <iframe\n",
       "            width=\"100%\"\n",
       "            height=\"800px\"\n",
       "            src=\"https://www.comet.com/1272371/general/4085beb95a354c9d8437062260505f3e\"\n",
       "            frameborder=\"0\"\n",
       "            allowfullscreen\n",
       "            \n",
       "        ></iframe>\n",
       "        "
      ],
      "text/plain": [
       "<IPython.lib.display.IFrame at 0x1e18eae33d0>"
      ]
     },
     "metadata": {},
     "output_type": "display_data"
    }
   ],
   "source": [
    "experiment.display()"
   ]
  },
  {
   "cell_type": "code",
   "execution_count": null,
   "metadata": {
    "id": "fupy3YeZolRA"
   },
   "outputs": [],
   "source": []
  }
 ],
 "metadata": {
  "colab": {
   "provenance": []
  },
  "kernelspec": {
   "display_name": "Python 3 (ipykernel)",
   "language": "python",
   "name": "python3"
  },
  "language_info": {
   "codemirror_mode": {
    "name": "ipython",
    "version": 3
   },
   "file_extension": ".py",
   "mimetype": "text/x-python",
   "name": "python",
   "nbconvert_exporter": "python",
   "pygments_lexer": "ipython3",
   "version": "3.11.3"
  }
 },
 "nbformat": 4,
 "nbformat_minor": 1
}
