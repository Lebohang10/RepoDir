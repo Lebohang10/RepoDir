{
 "cells": [
  {
   "cell_type": "markdown",
   "id": "ae06d48e",
   "metadata": {},
   "source": [
    "# Classification Predict Student Exam\n",
    "\n",
    "© Explore Data Science Academy\n",
    "\n",
    "---\n",
    "### Honour Code\n",
    "\n",
    "I {**LEBOHANG, LEKALAKALA**}, confirm - by submitting this document - that the solutions in this notebook are a result of my own work and that I abide by the [EDSA honour code](https://drive.google.com/file/d/1QDCjGZJ8-FmJE3bZdIQNwnJyQKPhHZBn/view?usp=sharing).\n",
    "\n",
    "Non-compliance with the honour code constitutes a material breach of contract."
   ]
  },
  {
   "cell_type": "markdown",
   "id": "f8ae4f1b",
   "metadata": {},
   "source": [
    "<a id=\"cont\"></a>\n",
    "\n",
    "## Table of Contents\n",
    "\n",
    "<a href=#one>1. Loading Packages and Data</a>\n",
    "\n",
    "<a href=#two>2. Data Exploratoty and Engineering</a>\n",
    "\n",
    "<a href=#three>3. Training Models</a>\n",
    "\n",
    "<a href=#four>4. Model Performance</a>\n",
    "\n",
    "<a href=#five>5. Model Explanations</a>\n",
    "\n",
    "<a href=#six>6. Model Submission</a>\n",
    "\n",
    "<a href=#seven>7. Conclusion</a>"
   ]
  },
  {
   "cell_type": "markdown",
   "id": "f9f8cb0d",
   "metadata": {},
   "source": [
    "<a id=\"one\"></a>\n",
    "## 1. Loading packages and data\n",
    "<a href=#cont>Back to Table of Contents</a>"
   ]
  },
  {
   "cell_type": "code",
   "execution_count": 173,
   "id": "d3907a7c",
   "metadata": {},
   "outputs": [],
   "source": [
    "import pandas as pd\n",
    "import numpy as np\n",
    "import matplotlib.pyplot as plt\n",
    "%matplotlib inline\n",
    "import seaborn as sns\n",
    "sns.set()\n",
    "\n",
    "#Libraries for Natural Language processing\n",
    "import nltk\n",
    "import string\n",
    "\n",
    "#Libraries for vectorising\n",
    "from sklearn.feature_extraction.text import TfidfVectorizer\n",
    "\n",
    "#Library for feature selection and resampling\n",
    "from sklearn.feature_selection import SelectKBest\n",
    "\n",
    "#Libraries for model selection\n",
    "from sklearn.model_selection import train_test_split\n",
    "\n",
    "#Libraries for models\n",
    "from sklearn.linear_model import LogisticRegression\n",
    "from sklearn.ensemble import RandomForestClassifier\n",
    "from sklearn.tree import DecisionTreeClassifier\n",
    "from sklearn.svm import SVC\n",
    "\n",
    "#Libraries for measuring metrics\n",
    "from sklearn.metrics import accuracy_score\n",
    "from sklearn.metrics import f1_score\n",
    "\n",
    "#making sure that we can see all rows and cols\n",
    "pd.set_option('display.max_columns', None)\n",
    "pd.set_option('display.max_rows', None)\n",
    "pd.set_option('display.max_colwidth', None)"
   ]
  },
  {
   "cell_type": "code",
   "execution_count": 174,
   "id": "750e4c66",
   "metadata": {},
   "outputs": [],
   "source": [
    "df = pd.read_csv('../data/train_set.csv')\n",
    "dft = pd.read_csv('../data/test_set.csv')"
   ]
  },
  {
   "cell_type": "markdown",
   "id": "a0b38610",
   "metadata": {},
   "source": [
    "<a id=\"two\"></a>\n",
    "## 2. Data Exploratory and Engineering\n",
    "<a href=#cont>Back to Table of Contents</a>"
   ]
  },
  {
   "cell_type": "code",
   "execution_count": 175,
   "id": "382bc0ab",
   "metadata": {},
   "outputs": [
    {
     "name": "stdout",
     "output_type": "stream",
     "text": [
      "(33000, 2)\n",
      "(5682, 2)\n"
     ]
    }
   ],
   "source": [
    "print(df.shape)\n",
    "print(dft.shape)"
   ]
  },
  {
   "cell_type": "code",
   "execution_count": 176,
   "id": "d89ac257",
   "metadata": {},
   "outputs": [
    {
     "name": "stdout",
     "output_type": "stream",
     "text": [
      "<class 'pandas.core.frame.DataFrame'>\n",
      "RangeIndex: 33000 entries, 0 to 32999\n",
      "Data columns (total 2 columns):\n",
      " #   Column   Non-Null Count  Dtype \n",
      "---  ------   --------------  ----- \n",
      " 0   lang_id  33000 non-null  object\n",
      " 1   text     33000 non-null  object\n",
      "dtypes: object(2)\n",
      "memory usage: 515.8+ KB\n",
      "None\n",
      "<class 'pandas.core.frame.DataFrame'>\n",
      "RangeIndex: 5682 entries, 0 to 5681\n",
      "Data columns (total 2 columns):\n",
      " #   Column  Non-Null Count  Dtype \n",
      "---  ------  --------------  ----- \n",
      " 0   index   5682 non-null   int64 \n",
      " 1   text    5682 non-null   object\n",
      "dtypes: int64(1), object(1)\n",
      "memory usage: 88.9+ KB\n",
      "None\n",
      "lang_id    0\n",
      "text       0\n",
      "dtype: int64\n",
      "index    0\n",
      "text     0\n",
      "dtype: int64\n"
     ]
    }
   ],
   "source": [
    "print(df.info())\n",
    "print(dft.info())\n",
    "\n",
    "print(df.isnull().sum())\n",
    "print(dft.isnull().sum())"
   ]
  },
  {
   "cell_type": "code",
   "execution_count": 177,
   "id": "b34ba999",
   "metadata": {},
   "outputs": [
    {
     "data": {
      "text/html": [
       "<div>\n",
       "<style scoped>\n",
       "    .dataframe tbody tr th:only-of-type {\n",
       "        vertical-align: middle;\n",
       "    }\n",
       "\n",
       "    .dataframe tbody tr th {\n",
       "        vertical-align: top;\n",
       "    }\n",
       "\n",
       "    .dataframe thead th {\n",
       "        text-align: right;\n",
       "    }\n",
       "</style>\n",
       "<table border=\"1\" class=\"dataframe\">\n",
       "  <thead>\n",
       "    <tr style=\"text-align: right;\">\n",
       "      <th></th>\n",
       "      <th>lang_id</th>\n",
       "      <th>text</th>\n",
       "    </tr>\n",
       "  </thead>\n",
       "  <tbody>\n",
       "    <tr>\n",
       "      <th>32995</th>\n",
       "      <td>tsn</td>\n",
       "      <td>popo ya dipolateforomo tse ke go tlisa boeteledipele ka mo saenseng ya lefatse ka mo go rona mme se ke kgato e kgolo ya go ya pele ka popontšhwa ya thekeniki ya biothekeniki ga bua motsamaisi wa thekenoloji ya biotekeniki wa lefapha la saense le thekenoloji mor ben durham</td>\n",
       "    </tr>\n",
       "    <tr>\n",
       "      <th>32996</th>\n",
       "      <td>sot</td>\n",
       "      <td>modise mosadi na o ntse o sa utlwe hore thabang o rata ho iketsa sengangele jwang hona jwale ke mona o se a bolela ka moo a batlang ho lokollelwa ngwana wa hae ka teng wena jwale o batla ho jarisa nna melato ya hae jwalo ka ha eka ke nna ya mo rommeng hore a mathakake le banana ba motse oo kaofela</td>\n",
       "    </tr>\n",
       "    <tr>\n",
       "      <th>32997</th>\n",
       "      <td>eng</td>\n",
       "      <td>closing date for the submission of completed tenders is august at h no late submissions will be considered submissions must be enclosed in a sealed envelope and addressed to the chief executive officer at the above address</td>\n",
       "    </tr>\n",
       "    <tr>\n",
       "      <th>32998</th>\n",
       "      <td>xho</td>\n",
       "      <td>nawuphina umntu ofunyenwe enetyala phantsi kwalo mthetho ujongene ujungene nesohlwayo sokudliwa imali okanye ukuvalelwa ixesha elingadluliyo kwiinyanga ezintandathu okanye kuzo zombini isohlwayo sokudliwa imali okanye ukuvalelwa</td>\n",
       "    </tr>\n",
       "    <tr>\n",
       "      <th>32999</th>\n",
       "      <td>sot</td>\n",
       "      <td>mafapha a mang le ona a lokela ho etsa ditlaleho tsa ona ho latela dipehelo tsa nema merero yohle e lokela ho hlahlojwa ke komiti ya ditaba tsa tikoloho eo e kenyeleditseng motsamaisi-kakaretso wa lefapha</td>\n",
       "    </tr>\n",
       "  </tbody>\n",
       "</table>\n",
       "</div>"
      ],
      "text/plain": [
       "      lang_id  \\\n",
       "32995     tsn   \n",
       "32996     sot   \n",
       "32997     eng   \n",
       "32998     xho   \n",
       "32999     sot   \n",
       "\n",
       "                                                                                                                                                                                                                                                                                                             text  \n",
       "32995                            popo ya dipolateforomo tse ke go tlisa boeteledipele ka mo saenseng ya lefatse ka mo go rona mme se ke kgato e kgolo ya go ya pele ka popontšhwa ya thekeniki ya biothekeniki ga bua motsamaisi wa thekenoloji ya biotekeniki wa lefapha la saense le thekenoloji mor ben durham  \n",
       "32996  modise mosadi na o ntse o sa utlwe hore thabang o rata ho iketsa sengangele jwang hona jwale ke mona o se a bolela ka moo a batlang ho lokollelwa ngwana wa hae ka teng wena jwale o batla ho jarisa nna melato ya hae jwalo ka ha eka ke nna ya mo rommeng hore a mathakake le banana ba motse oo kaofela  \n",
       "32997                                                                              closing date for the submission of completed tenders is august at h no late submissions will be considered submissions must be enclosed in a sealed envelope and addressed to the chief executive officer at the above address  \n",
       "32998                                                                        nawuphina umntu ofunyenwe enetyala phantsi kwalo mthetho ujongene ujungene nesohlwayo sokudliwa imali okanye ukuvalelwa ixesha elingadluliyo kwiinyanga ezintandathu okanye kuzo zombini isohlwayo sokudliwa imali okanye ukuvalelwa  \n",
       "32999                                                                                                mafapha a mang le ona a lokela ho etsa ditlaleho tsa ona ho latela dipehelo tsa nema merero yohle e lokela ho hlahlojwa ke komiti ya ditaba tsa tikoloho eo e kenyeleditseng motsamaisi-kakaretso wa lefapha  "
      ]
     },
     "execution_count": 177,
     "metadata": {},
     "output_type": "execute_result"
    }
   ],
   "source": [
    "df.tail()"
   ]
  },
  {
   "cell_type": "code",
   "execution_count": 178,
   "id": "bbee6691",
   "metadata": {},
   "outputs": [
    {
     "data": {
      "text/html": [
       "<div>\n",
       "<style scoped>\n",
       "    .dataframe tbody tr th:only-of-type {\n",
       "        vertical-align: middle;\n",
       "    }\n",
       "\n",
       "    .dataframe tbody tr th {\n",
       "        vertical-align: top;\n",
       "    }\n",
       "\n",
       "    .dataframe thead th {\n",
       "        text-align: right;\n",
       "    }\n",
       "</style>\n",
       "<table border=\"1\" class=\"dataframe\">\n",
       "  <thead>\n",
       "    <tr style=\"text-align: right;\">\n",
       "      <th></th>\n",
       "      <th>index</th>\n",
       "      <th>text</th>\n",
       "    </tr>\n",
       "  </thead>\n",
       "  <tbody>\n",
       "    <tr>\n",
       "      <th>0</th>\n",
       "      <td>1</td>\n",
       "      <td>Mmasepala, fa maemo a a kgethegileng a letlelela kgato eo.</td>\n",
       "    </tr>\n",
       "    <tr>\n",
       "      <th>1</th>\n",
       "      <td>2</td>\n",
       "      <td>Uzakwaziswa ngokufaneleko nakungafuneka eminye imitlolo engezelelako ukuqedelela ukutloliswa kwesibawo sakho.</td>\n",
       "    </tr>\n",
       "    <tr>\n",
       "      <th>2</th>\n",
       "      <td>3</td>\n",
       "      <td>Tshivhumbeo tshi fana na ngano dza vhathu.</td>\n",
       "    </tr>\n",
       "    <tr>\n",
       "      <th>3</th>\n",
       "      <td>4</td>\n",
       "      <td>Kube inja nelikati betingevakala kutsi titsini naticocisana.</td>\n",
       "    </tr>\n",
       "    <tr>\n",
       "      <th>4</th>\n",
       "      <td>5</td>\n",
       "      <td>Winste op buitelandse valuta.</td>\n",
       "    </tr>\n",
       "  </tbody>\n",
       "</table>\n",
       "</div>"
      ],
      "text/plain": [
       "   index  \\\n",
       "0      1   \n",
       "1      2   \n",
       "2      3   \n",
       "3      4   \n",
       "4      5   \n",
       "\n",
       "                                                                                                            text  \n",
       "0                                                     Mmasepala, fa maemo a a kgethegileng a letlelela kgato eo.  \n",
       "1  Uzakwaziswa ngokufaneleko nakungafuneka eminye imitlolo engezelelako ukuqedelela ukutloliswa kwesibawo sakho.  \n",
       "2                                                                     Tshivhumbeo tshi fana na ngano dza vhathu.  \n",
       "3                                                   Kube inja nelikati betingevakala kutsi titsini naticocisana.  \n",
       "4                                                                                  Winste op buitelandse valuta.  "
      ]
     },
     "execution_count": 178,
     "metadata": {},
     "output_type": "execute_result"
    }
   ],
   "source": [
    "dft.head()"
   ]
  },
  {
   "cell_type": "code",
   "execution_count": 179,
   "id": "88765605",
   "metadata": {},
   "outputs": [
    {
     "data": {
      "text/plain": [
       "array(['xho', 'eng', 'nso', 'ven', 'tsn', 'nbl', 'zul', 'ssw', 'tso',\n",
       "       'sot', 'afr'], dtype=object)"
      ]
     },
     "execution_count": 179,
     "metadata": {},
     "output_type": "execute_result"
    }
   ],
   "source": [
    "df['lang_id'].unique()"
   ]
  },
  {
   "cell_type": "code",
   "execution_count": 180,
   "id": "f1b42a5f",
   "metadata": {},
   "outputs": [
    {
     "data": {
      "text/plain": [
       "{'xho': 3000,\n",
       " 'eng': 3000,\n",
       " 'nso': 3000,\n",
       " 'ven': 3000,\n",
       " 'tsn': 3000,\n",
       " 'nbl': 3000,\n",
       " 'zul': 3000,\n",
       " 'ssw': 3000,\n",
       " 'tso': 3000,\n",
       " 'sot': 3000,\n",
       " 'afr': 3000}"
      ]
     },
     "execution_count": 180,
     "metadata": {},
     "output_type": "execute_result"
    }
   ],
   "source": [
    "lst = list(df['lang_id'])\n",
    "\n",
    "def seperate_lang(sent_list):\n",
    "    lang = {}\n",
    "    for x in sent_list:\n",
    "        if x in lang:\n",
    "            lang[x] += 1\n",
    "        else:\n",
    "            lang[x] = 1\n",
    "    return lang\n",
    "seperate_lang(lst)"
   ]
  },
  {
   "cell_type": "markdown",
   "id": "4aec9218",
   "metadata": {},
   "source": [
    "### Observations:\n",
    "\n",
    "- The df and the dft dataframes have the shapes (33000, 2), (5682, 2) respectively.\n",
    "- The df datase has two columns with the dtype of object (text, lang_id), while dft contains a columns with a dtype of object(text) and the other(index) has a numerical dtype of int64\n",
    "- There are no null values in the datasets.\n",
    "- The data is equally balanced, since there are 3000 texts for each lang_id."
   ]
  },
  {
   "cell_type": "markdown",
   "id": "3dcec7f1",
   "metadata": {},
   "source": [
    "**2.1 Remove punctuations**"
   ]
  },
  {
   "cell_type": "code",
   "execution_count": 181,
   "id": "3570d79a",
   "metadata": {},
   "outputs": [],
   "source": [
    "def remove_punctuation(post):\n",
    "    \"\"\"\n",
    "    Remove punctuation marks from the given post.\n",
    "\n",
    "    Args:\n",
    "        post (str): The input post from which punctuation marks are to be removed.\n",
    "\n",
    "    Returns:\n",
    "        str: The post with punctuation marks removed.\n",
    "    \"\"\"\n",
    "    return ''.join([l for l in post if l not in string.punctuation])\n",
    "df['clean_text'] = df['text'].apply(remove_punctuation).str.lower()\n",
    "dft['clean_text'] = dft['text'].apply(remove_punctuation).str.lower()"
   ]
  },
  {
   "cell_type": "markdown",
   "id": "19a0ebf3",
   "metadata": {},
   "source": [
    "**2.2 Tokenizing**"
   ]
  },
  {
   "cell_type": "code",
   "execution_count": 182,
   "id": "d2dada96",
   "metadata": {},
   "outputs": [],
   "source": [
    "from nltk.tokenize import word_tokenize\n",
    "from nltk.corpus import stopwords\n",
    "def tokenize_text(text):\n",
    "    \"\"\"\n",
    "    Tokenizes the given text by splitting it into words, removing stopwords, and removing words with a length less than or equal to 2.\n",
    "\n",
    "    Args:\n",
    "        text (str): The input text.\n",
    "\n",
    "    Returns:\n",
    "        list: The tokenized words.\n",
    "    \"\"\"\n",
    "\n",
    "    # Tokenization\n",
    "    tokens = word_tokenize(text)\n",
    "\n",
    "    # Remove stopwords\n",
    "    stop_words = set(stopwords.words('english'))\n",
    "\n",
    "    # Remove stopwords and punctuation\n",
    "    return [word for word in tokens if word not in stop_words and len(word) > 2]"
   ]
  },
  {
   "cell_type": "code",
   "execution_count": 183,
   "id": "c26e2c28",
   "metadata": {},
   "outputs": [],
   "source": [
    "df['token_text'] = df['clean_text'].apply(tokenize_text)\n",
    "dft['token_text'] = dft['clean_text'].apply(tokenize_text)"
   ]
  },
  {
   "cell_type": "markdown",
   "id": "8e633e4d",
   "metadata": {},
   "source": [
    "**2.3 Lemmatizing**"
   ]
  },
  {
   "cell_type": "code",
   "execution_count": 185,
   "id": "b0142344",
   "metadata": {},
   "outputs": [],
   "source": [
    "from nltk.stem import WordNetLemmatizer\n",
    "lemmatizer = WordNetLemmatizer()\n",
    "    \n",
    "def lemmatize_words(words, lemmatizer):\n",
    "    \"\"\" Groups words of similar meaning together.\n",
    "    Args:\n",
    "        words: tokenized words\n",
    "        lemmatizer: \n",
    "    Returns: \"\"\"\n",
    "    \n",
    "    return [lemmatizer.lemmatize(word) for word in words]\n",
    "\n",
    "df['lemma'] = df['token_text'].apply(lemmatize_words, args = (lemmatizer,))\n",
    "dft['lemma'] = dft['token_text'].apply(lemmatize_words, args = (lemmatizer,))"
   ]
  },
  {
   "cell_type": "code",
   "execution_count": 186,
   "id": "10762406",
   "metadata": {},
   "outputs": [],
   "source": [
    "df['lemma'] = df['lemma'].apply(lambda x: ' '.join(x))\n",
    "df['token_text'] = df['token_text'].apply(lambda x: ' '.join(x))\n",
    "\n",
    "dft['lemma'] = dft['lemma'].apply(lambda x: ' '.join(x))\n",
    "dft['token_text'] = dft['token_text'].apply(lambda x: ' '.join(x))"
   ]
  },
  {
   "cell_type": "markdown",
   "id": "069b4e7c",
   "metadata": {},
   "source": [
    "### Observations:\n",
    "\n",
    "- The texts were cleaned by removing punctuations and stopwords so that texts have less noice before raining the model.\n",
    "- The texts were tokenized and lemmatized. These columns will be used to check which columns contribute better in predictions"
   ]
  },
  {
   "cell_type": "markdown",
   "id": "6ecb6851",
   "metadata": {},
   "source": [
    "<a id=\"three\"></a>\n",
    "## 3. Training Models\n",
    "<a href=#cont>Back to Table of Contents</a>"
   ]
  },
  {
   "cell_type": "markdown",
   "id": "42f5ef08",
   "metadata": {},
   "source": [
    "### 3.1 Convert text to numerical values"
   ]
  },
  {
   "cell_type": "code",
   "execution_count": 160,
   "id": "cfbbba7e",
   "metadata": {},
   "outputs": [],
   "source": [
    "tf = TfidfVectorizer(max_features=3000)\n",
    "\n",
    "# Transforming the 'cleaned_message' column of the DataFrame into a matrix of TF-IDF features\n",
    "X = tf.fit_transform(df['clean_text']).toarray()\n",
    "# Transforming the 'cleaned_message' column of the testing dataFrame into a matrix of TF-IDF features\n",
    "test = tf.transform(dft['clean_text']).toarray()\n",
    "\n",
    "# Converting the 'sentiment' column the DataFrame into a NumPy array\n",
    "y = np.array(df['lang_id'])"
   ]
  },
  {
   "cell_type": "code",
   "execution_count": 161,
   "id": "c26514f4",
   "metadata": {},
   "outputs": [
    {
     "data": {
      "text/plain": [
       "(5682, 3000)"
      ]
     },
     "execution_count": 161,
     "metadata": {},
     "output_type": "execute_result"
    }
   ],
   "source": [
    "test.shape"
   ]
  },
  {
   "cell_type": "code",
   "execution_count": 162,
   "id": "9e4c3364",
   "metadata": {},
   "outputs": [],
   "source": [
    "X_train, X_test, y_train, y_test = train_test_split(X, y, test_size=0.2, random_state=42)"
   ]
  },
  {
   "cell_type": "markdown",
   "id": "7ca30f61",
   "metadata": {},
   "source": [
    "## a) Logistic Regression"
   ]
  },
  {
   "cell_type": "code",
   "execution_count": 163,
   "id": "e9decb6d",
   "metadata": {},
   "outputs": [
    {
     "name": "stdout",
     "output_type": "stream",
     "text": [
      "F1-score: 0.9854641381235552\n",
      "accuracy: 0.9856060606060606\n"
     ]
    }
   ],
   "source": [
    "lr = LogisticRegression(max_iter=1000)\n",
    "\n",
    "lr.fit(X_train, y_train)\n",
    "\n",
    "pred_lr = lr.predict(X_test)\n",
    "\n",
    "f1 = f1_score(y_test, pred_lr, average='macro')\n",
    "accuracy = accuracy_score(y_test, pred_lr)\n",
    "\n",
    "print(\"F1-score:\", f1)\n",
    "print(\"accuracy:\", accuracy)"
   ]
  },
  {
   "cell_type": "markdown",
   "id": "c4ae29d9",
   "metadata": {},
   "source": [
    "## b) Random Forest"
   ]
  },
  {
   "cell_type": "code",
   "execution_count": 165,
   "id": "9ecbdef6",
   "metadata": {},
   "outputs": [
    {
     "name": "stdout",
     "output_type": "stream",
     "text": [
      "F1-score: 0.9774177032018293\n",
      "accuracy: 0.9771212121212122\n"
     ]
    }
   ],
   "source": [
    "from sklearn.ensemble import RandomForestClassifier\n",
    "# tuning\n",
    "\n",
    "forest = RandomForestClassifier(n_estimators=100, random_state=42)\n",
    "forest.fit(X_train, y_train)\n",
    "\n",
    "pred_forest = forest.predict(X_test)\n",
    "\n",
    "f1 = f1_score(y_test, pred_forest, average='macro')\n",
    "accuracy = accuracy_score(y_test, pred_forest)\n",
    "\n",
    "print(\"F1-score:\", f1)\n",
    "print(\"accuracy:\", accuracy)"
   ]
  },
  {
   "cell_type": "markdown",
   "id": "ea0ec2ae",
   "metadata": {},
   "source": [
    "## c) Decision Tree"
   ]
  },
  {
   "cell_type": "code",
   "execution_count": 166,
   "id": "bf1d183a",
   "metadata": {},
   "outputs": [
    {
     "name": "stdout",
     "output_type": "stream",
     "text": [
      "F1-score: 0.9544404411511045\n",
      "accuracy: 0.9545454545454546\n"
     ]
    }
   ],
   "source": [
    "from sklearn.preprocessing import StandardScaler\n",
    "\n",
    "#Standarise the data\n",
    "standard_scaler = StandardScaler()\n",
    "X_trans = standard_scaler.fit_transform(X)\n",
    "\n",
    "# Split into train and test sets\n",
    "X_train, X_test, y_train, y_test = train_test_split(X_trans, y, test_size=0.20, random_state=50)\n",
    "\n",
    "tree = DecisionTreeClassifier(random_state=42)\n",
    "tree.fit(X_train, y_train)\n",
    "\n",
    "y_pred = tree.predict(X_test)\n",
    "\n",
    "f1 = f1_score(y_test, y_pred, average='macro')\n",
    "accuracy = accuracy_score(y_test, y_pred)\n",
    "\n",
    "print(\"F1-score:\", f1)\n",
    "print(\"accuracy:\", accuracy)"
   ]
  },
  {
   "cell_type": "markdown",
   "id": "0cfe05b3",
   "metadata": {},
   "source": [
    "## d) Support Vector Model"
   ]
  },
  {
   "cell_type": "code",
   "execution_count": 167,
   "id": "47bf5522",
   "metadata": {},
   "outputs": [
    {
     "name": "stdout",
     "output_type": "stream",
     "text": [
      "F1-score: 0.9738304413006726\n",
      "accuracy: 0.973939393939394\n"
     ]
    }
   ],
   "source": [
    "svc = SVC(kernel='linear')\n",
    "svc.fit(X_train, y_train)\n",
    "y_pred_svm = svc.predict(X_test)\n",
    "\n",
    "f1 = f1_score(y_test, y_pred_svm, average='macro')\n",
    "accuracy = accuracy_score(y_test, y_pred_svm)\n",
    "\n",
    "print(\"F1-score:\", f1)\n",
    "print(\"accuracy:\", accuracy)"
   ]
  },
  {
   "cell_type": "markdown",
   "id": "50372ccb",
   "metadata": {},
   "source": [
    "<a id=\"five\"></a>\n",
    "## 5. Model Performance\n",
    "<a href=#cont>Back to Table of Contents</a>"
   ]
  },
  {
   "cell_type": "code",
   "execution_count": 168,
   "id": "56094d66",
   "metadata": {},
   "outputs": [
    {
     "data": {
      "image/png": "[encoded data removed]",
      "text/plain": [
       "<Figure size 600x400 with 1 Axes>"
      ]
     },
     "metadata": {},
     "output_type": "display_data"
    }
   ],
   "source": [
    "\n",
    "from sklearn.preprocessing import StandardScaler\n",
    "\n",
    "# Scale the data\n",
    "scaler = StandardScaler()\n",
    "X_train_scaled = scaler.fit_transform(X_train)\n",
    "X_test_scaled = scaler.transform(X_test)\n",
    "\n",
    "# Train the models and calculate f1 score\n",
    "models = [lr, forest, tree, svc]\n",
    "model_names = ['Logistic Regression', 'Random Forest', 'Decision Tree', 'SVM']\n",
    "f1_values = []\n",
    "\n",
    "for model in models:\n",
    "    if model == lm_full:\n",
    "        # Set a higher max_iter value\n",
    "        model.set_params(max_iter=1000)\n",
    "        model.fit(X_train_scaled, y_train)\n",
    "    else:\n",
    "        model.fit(X_train, y_train)\n",
    "    \n",
    "    y_pred = model.predict(X_test_scaled)  # Use scaled test data\n",
    "    f1 = f1_score(y_test, y_pred, average='macro')\n",
    "    f1_values.append(f1)\n",
    "\n",
    "# Plot the f1 values\n",
    "plt.figure(figsize=(6, 4))\n",
    "plt.bar(model_names, f1_values)\n",
    "plt.xlabel('Models')\n",
    "plt.ylabel('f1_values')\n",
    "plt.title('f1 Values for Different Models')\n",
    "plt.savefig('plot.png')\n",
    "plt.show()\n"
   ]
  },
  {
   "cell_type": "markdown",
   "id": "5a9738fe",
   "metadata": {},
   "source": [
    "<a id=\"sic\"></a>\n",
    "## 6. Model Submission\n",
    "<a href=#cont>Back to Table of Contents</a>"
   ]
  },
  {
   "cell_type": "code",
   "execution_count": 170,
   "id": "d6792e44",
   "metadata": {},
   "outputs": [],
   "source": [
    "pred_lr = lr.predict(test)\n",
    "index = range(1, 1 + len(pred_lr))\n",
    "\n",
    "# Create a DataFrame with 'index' as the header name and set the index explicitly\n",
    "df = pd.DataFrame({'index': index, 'lang_id': pred_lr})\n",
    "\n",
    "# Specify the file path where you want to save the DataFrame\n",
    "file_path = '../predictions/predictions.csv'  # Provide the folder name and file name\n",
    "\n",
    "# Save the DataFrame to a file\n",
    "df.to_csv(file_path, index = False)"
   ]
  },
  {
   "cell_type": "markdown",
   "id": "169a315c",
   "metadata": {},
   "source": [
    "<a id=\"seven\"></a>\n",
    "## 7. Conclusion\n",
    "<a href=#cont>Back to Table of Contents</a>"
   ]
  },
  {
   "cell_type": "markdown",
   "id": "2174eabd",
   "metadata": {},
   "source": [
    "- The model that performed better out of all 4 models is the Logistic regression model with the f1_score of 0.985.\n",
    "- The token_text, lemma and text did not make the model to perform any better. Hence the clean_text was used ."
   ]
  }
 ],
 "metadata": {
  "kernelspec": {
   "display_name": "Python 3 (ipykernel)",
   "language": "python",
   "name": "python3"
  },
  "language_info": {
   "codemirror_mode": {
    "name": "ipython",
    "version": 3
   },
   "file_extension": ".py",
   "mimetype": "text/x-python",
   "name": "python",
   "nbconvert_exporter": "python",
   "pygments_lexer": "ipython3",
   "version": "3.9.13"
  }
 },
 "nbformat": 4,
 "nbformat_minor": 5
}
